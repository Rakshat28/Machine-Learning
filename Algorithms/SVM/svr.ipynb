{
 "cells": [
  {
   "cell_type": "markdown",
   "metadata": {},
   "source": [
    "# Suppor vector regression "
   ]
  },
  {
   "cell_type": "code",
   "execution_count": 2,
   "metadata": {},
   "outputs": [],
   "source": [
    "import seaborn as sns \n",
    "df = sns.load_dataset('tips')"
   ]
  },
  {
   "cell_type": "code",
   "execution_count": 3,
   "metadata": {},
   "outputs": [
    {
     "data": {
      "text/html": [
       "<div>\n",
       "<style scoped>\n",
       "    .dataframe tbody tr th:only-of-type {\n",
       "        vertical-align: middle;\n",
       "    }\n",
       "\n",
       "    .dataframe tbody tr th {\n",
       "        vertical-align: top;\n",
       "    }\n",
       "\n",
       "    .dataframe thead th {\n",
       "        text-align: right;\n",
       "    }\n",
       "</style>\n",
       "<table border=\"1\" class=\"dataframe\">\n",
       "  <thead>\n",
       "    <tr style=\"text-align: right;\">\n",
       "      <th></th>\n",
       "      <th>total_bill</th>\n",
       "      <th>tip</th>\n",
       "      <th>sex</th>\n",
       "      <th>smoker</th>\n",
       "      <th>day</th>\n",
       "      <th>time</th>\n",
       "      <th>size</th>\n",
       "    </tr>\n",
       "  </thead>\n",
       "  <tbody>\n",
       "    <tr>\n",
       "      <th>0</th>\n",
       "      <td>16.99</td>\n",
       "      <td>1.01</td>\n",
       "      <td>Female</td>\n",
       "      <td>No</td>\n",
       "      <td>Sun</td>\n",
       "      <td>Dinner</td>\n",
       "      <td>2</td>\n",
       "    </tr>\n",
       "    <tr>\n",
       "      <th>1</th>\n",
       "      <td>10.34</td>\n",
       "      <td>1.66</td>\n",
       "      <td>Male</td>\n",
       "      <td>No</td>\n",
       "      <td>Sun</td>\n",
       "      <td>Dinner</td>\n",
       "      <td>3</td>\n",
       "    </tr>\n",
       "    <tr>\n",
       "      <th>2</th>\n",
       "      <td>21.01</td>\n",
       "      <td>3.50</td>\n",
       "      <td>Male</td>\n",
       "      <td>No</td>\n",
       "      <td>Sun</td>\n",
       "      <td>Dinner</td>\n",
       "      <td>3</td>\n",
       "    </tr>\n",
       "    <tr>\n",
       "      <th>3</th>\n",
       "      <td>23.68</td>\n",
       "      <td>3.31</td>\n",
       "      <td>Male</td>\n",
       "      <td>No</td>\n",
       "      <td>Sun</td>\n",
       "      <td>Dinner</td>\n",
       "      <td>2</td>\n",
       "    </tr>\n",
       "    <tr>\n",
       "      <th>4</th>\n",
       "      <td>24.59</td>\n",
       "      <td>3.61</td>\n",
       "      <td>Female</td>\n",
       "      <td>No</td>\n",
       "      <td>Sun</td>\n",
       "      <td>Dinner</td>\n",
       "      <td>4</td>\n",
       "    </tr>\n",
       "  </tbody>\n",
       "</table>\n",
       "</div>"
      ],
      "text/plain": [
       "   total_bill   tip     sex smoker  day    time  size\n",
       "0       16.99  1.01  Female     No  Sun  Dinner     2\n",
       "1       10.34  1.66    Male     No  Sun  Dinner     3\n",
       "2       21.01  3.50    Male     No  Sun  Dinner     3\n",
       "3       23.68  3.31    Male     No  Sun  Dinner     2\n",
       "4       24.59  3.61  Female     No  Sun  Dinner     4"
      ]
     },
     "execution_count": 3,
     "metadata": {},
     "output_type": "execute_result"
    }
   ],
   "source": [
    "df.head()"
   ]
  },
  {
   "cell_type": "code",
   "execution_count": 4,
   "metadata": {},
   "outputs": [
    {
     "name": "stdout",
     "output_type": "stream",
     "text": [
      "<class 'pandas.core.frame.DataFrame'>\n",
      "RangeIndex: 244 entries, 0 to 243\n",
      "Data columns (total 7 columns):\n",
      " #   Column      Non-Null Count  Dtype   \n",
      "---  ------      --------------  -----   \n",
      " 0   total_bill  244 non-null    float64 \n",
      " 1   tip         244 non-null    float64 \n",
      " 2   sex         244 non-null    category\n",
      " 3   smoker      244 non-null    category\n",
      " 4   day         244 non-null    category\n",
      " 5   time        244 non-null    category\n",
      " 6   size        244 non-null    int64   \n",
      "dtypes: category(4), float64(2), int64(1)\n",
      "memory usage: 7.4 KB\n"
     ]
    }
   ],
   "source": [
    "df.info()"
   ]
  },
  {
   "cell_type": "code",
   "execution_count": 5,
   "metadata": {},
   "outputs": [],
   "source": [
    "# feature encoding ( Label encoding and onehot encoding)"
   ]
  },
  {
   "cell_type": "code",
   "execution_count": 6,
   "metadata": {},
   "outputs": [],
   "source": [
    "#independen feature and dependent feature"
   ]
  },
  {
   "cell_type": "code",
   "execution_count": 7,
   "metadata": {},
   "outputs": [],
   "source": [
    "X=df[['tip','sex','smoker','day','time','size']]\n",
    "y=df['total_bill']"
   ]
  },
  {
   "cell_type": "code",
   "execution_count": 9,
   "metadata": {},
   "outputs": [],
   "source": [
    "#train test split\n",
    "from sklearn.model_selection import train_test_split\n",
    "X_train,X_test,y_train,y_test=train_test_split(X,y,test_size=0.25,random_state=10)"
   ]
  },
  {
   "cell_type": "code",
   "execution_count": 10,
   "metadata": {},
   "outputs": [],
   "source": [
    "#feature encoding \n",
    "from sklearn.preprocessing import LabelEncoder"
   ]
  },
  {
   "cell_type": "code",
   "execution_count": 11,
   "metadata": {},
   "outputs": [],
   "source": [
    "le1=LabelEncoder()\n",
    "le2=LabelEncoder()\n",
    "le3=LabelEncoder()"
   ]
  },
  {
   "cell_type": "code",
   "execution_count": 12,
   "metadata": {},
   "outputs": [],
   "source": [
    "import warnings\n",
    "warnings.filterwarnings('ignore')\n",
    "X_train['sex'] = le1.fit_transform(X_train['sex'])\n",
    "X_train['smoker'] = le2.fit_transform(X_train['smoker'])\n",
    "X_train['time'] = le3.fit_transform(X_train['time'])"
   ]
  },
  {
   "cell_type": "code",
   "execution_count": 13,
   "metadata": {},
   "outputs": [],
   "source": [
    "#one hot encoding\n",
    "from sklearn.preprocessing import OneHotEncoder\n",
    "from sklearn.compose import ColumnTransformer"
   ]
  },
  {
   "cell_type": "code",
   "execution_count": 14,
   "metadata": {},
   "outputs": [],
   "source": [
    "ct = ColumnTransformer(\n",
    "    [('onehot', OneHotEncoder(drop='first'), [3])],  # Apply OneHotEncoder to column index 3\n",
    "    remainder='passthrough'  # Keep other columns unchanged\n",
    ")"
   ]
  },
  {
   "cell_type": "code",
   "execution_count": 16,
   "metadata": {},
   "outputs": [
    {
     "data": {
      "text/plain": [
       "array([[ 1.  ,  0.  ,  0.  ,  1.76,  1.  ,  1.  ,  0.  ,  2.  ],\n",
       "       [ 0.  ,  1.  ,  0.  ,  1.66,  1.  ,  0.  ,  0.  ,  3.  ],\n",
       "       [ 0.  ,  1.  ,  0.  ,  3.5 ,  1.  ,  0.  ,  0.  ,  3.  ],\n",
       "       [ 1.  ,  0.  ,  0.  ,  2.01,  1.  ,  0.  ,  0.  ,  2.  ],\n",
       "       [ 0.  ,  1.  ,  0.  ,  3.  ,  1.  ,  1.  ,  0.  ,  2.  ],\n",
       "       [ 0.  ,  1.  ,  0.  ,  4.  ,  0.  ,  1.  ,  0.  ,  2.  ],\n",
       "       [ 0.  ,  1.  ,  0.  ,  5.2 ,  0.  ,  0.  ,  0.  ,  4.  ],\n",
       "       [ 0.  ,  0.  ,  1.  ,  4.  ,  1.  ,  1.  ,  1.  ,  4.  ],\n",
       "       [ 0.  ,  0.  ,  1.  ,  5.  ,  1.  ,  0.  ,  1.  ,  5.  ],\n",
       "       [ 1.  ,  0.  ,  0.  ,  3.  ,  0.  ,  0.  ,  0.  ,  2.  ],\n",
       "       [ 1.  ,  0.  ,  0.  ,  1.75,  1.  ,  0.  ,  0.  ,  2.  ],\n",
       "       [ 0.  ,  1.  ,  0.  ,  3.12,  1.  ,  0.  ,  0.  ,  4.  ],\n",
       "       [ 0.  ,  0.  ,  1.  ,  3.  ,  0.  ,  0.  ,  0.  ,  2.  ],\n",
       "       [ 1.  ,  0.  ,  0.  ,  5.  ,  1.  ,  0.  ,  0.  ,  3.  ],\n",
       "       [ 0.  ,  0.  ,  1.  ,  4.  ,  1.  ,  0.  ,  1.  ,  2.  ],\n",
       "       [ 1.  ,  0.  ,  0.  ,  2.  ,  0.  ,  1.  ,  0.  ,  2.  ],\n",
       "       [ 1.  ,  0.  ,  0.  ,  3.39,  1.  ,  0.  ,  0.  ,  2.  ],\n",
       "       [ 0.  ,  0.  ,  1.  ,  2.3 ,  0.  ,  0.  ,  1.  ,  2.  ],\n",
       "       [ 1.  ,  0.  ,  0.  ,  2.03,  1.  ,  1.  ,  0.  ,  2.  ],\n",
       "       [ 1.  ,  0.  ,  0.  ,  1.64,  1.  ,  1.  ,  0.  ,  2.  ],\n",
       "       [ 1.  ,  0.  ,  0.  ,  1.17,  1.  ,  1.  ,  0.  ,  2.  ],\n",
       "       [ 0.  ,  0.  ,  1.  ,  3.  ,  1.  ,  0.  ,  1.  ,  2.  ],\n",
       "       [ 1.  ,  0.  ,  0.  ,  2.34,  1.  ,  0.  ,  0.  ,  4.  ],\n",
       "       [ 0.  ,  0.  ,  1.  ,  2.52,  0.  ,  0.  ,  1.  ,  2.  ],\n",
       "       [ 0.  ,  1.  ,  0.  ,  2.  ,  1.  ,  1.  ,  0.  ,  2.  ],\n",
       "       [ 1.  ,  0.  ,  0.  ,  3.14,  0.  ,  1.  ,  0.  ,  2.  ],\n",
       "       [ 1.  ,  0.  ,  0.  ,  1.47,  1.  ,  0.  ,  0.  ,  2.  ],\n",
       "       [ 1.  ,  0.  ,  0.  ,  3.  ,  1.  ,  1.  ,  0.  ,  3.  ],\n",
       "       [ 1.  ,  0.  ,  0.  ,  1.61,  0.  ,  1.  ,  0.  ,  2.  ],\n",
       "       [ 0.  ,  1.  ,  0.  ,  3.5 ,  0.  ,  1.  ,  0.  ,  3.  ],\n",
       "       [ 1.  ,  0.  ,  0.  ,  2.  ,  1.  ,  1.  ,  0.  ,  2.  ],\n",
       "       [ 0.  ,  0.  ,  1.  ,  1.5 ,  0.  ,  0.  ,  1.  ,  2.  ],\n",
       "       [ 0.  ,  1.  ,  0.  ,  3.5 ,  1.  ,  0.  ,  0.  ,  4.  ],\n",
       "       [ 0.  ,  1.  ,  0.  ,  1.32,  1.  ,  0.  ,  0.  ,  2.  ],\n",
       "       [ 1.  ,  0.  ,  0.  ,  4.  ,  0.  ,  1.  ,  0.  ,  2.  ],\n",
       "       [ 0.  ,  1.  ,  0.  ,  3.18,  1.  ,  1.  ,  0.  ,  2.  ],\n",
       "       [ 1.  ,  0.  ,  0.  ,  2.75,  0.  ,  0.  ,  0.  ,  2.  ],\n",
       "       [ 0.  ,  1.  ,  0.  ,  5.14,  0.  ,  0.  ,  0.  ,  5.  ],\n",
       "       [ 1.  ,  0.  ,  0.  ,  3.07,  0.  ,  0.  ,  0.  ,  3.  ],\n",
       "       [ 0.  ,  0.  ,  1.  ,  2.5 ,  0.  ,  1.  ,  1.  ,  2.  ],\n",
       "       [ 1.  ,  0.  ,  0.  ,  1.25,  1.  ,  0.  ,  0.  ,  2.  ],\n",
       "       [ 0.  ,  0.  ,  1.  ,  2.56,  1.  ,  1.  ,  1.  ,  2.  ],\n",
       "       [ 0.  ,  1.  ,  0.  ,  2.05,  1.  ,  0.  ,  0.  ,  3.  ],\n",
       "       [ 0.  ,  0.  ,  1.  ,  4.19,  0.  ,  1.  ,  1.  ,  2.  ],\n",
       "       [ 0.  ,  0.  ,  1.  ,  2.83,  0.  ,  0.  ,  1.  ,  2.  ],\n",
       "       [ 0.  ,  0.  ,  1.  ,  2.  ,  1.  ,  1.  ,  1.  ,  2.  ],\n",
       "       [ 0.  ,  0.  ,  1.  ,  4.  ,  1.  ,  1.  ,  1.  ,  2.  ],\n",
       "       [ 0.  ,  0.  ,  0.  ,  1.5 ,  1.  ,  0.  ,  0.  ,  2.  ],\n",
       "       [ 0.  ,  0.  ,  0.  ,  4.73,  1.  ,  1.  ,  0.  ,  4.  ],\n",
       "       [ 0.  ,  1.  ,  0.  ,  2.74,  1.  ,  0.  ,  0.  ,  3.  ],\n",
       "       [ 1.  ,  0.  ,  0.  ,  1.  ,  0.  ,  1.  ,  0.  ,  1.  ],\n",
       "       [ 1.  ,  0.  ,  0.  ,  2.47,  0.  ,  0.  ,  0.  ,  2.  ],\n",
       "       [ 0.  ,  1.  ,  0.  ,  5.15,  1.  ,  1.  ,  0.  ,  2.  ],\n",
       "       [ 1.  ,  0.  ,  0.  ,  2.23,  0.  ,  0.  ,  0.  ,  2.  ],\n",
       "       [ 1.  ,  0.  ,  0.  ,  2.31,  1.  ,  0.  ,  0.  ,  3.  ],\n",
       "       [ 1.  ,  0.  ,  0.  ,  5.92,  1.  ,  0.  ,  0.  ,  3.  ],\n",
       "       [ 1.  ,  0.  ,  0.  ,  2.  ,  1.  ,  1.  ,  0.  ,  4.  ],\n",
       "       [ 0.  ,  0.  ,  0.  ,  3.  ,  0.  ,  1.  ,  0.  ,  2.  ],\n",
       "       [ 1.  ,  0.  ,  0.  ,  2.23,  0.  ,  1.  ,  0.  ,  2.  ],\n",
       "       [ 1.  ,  0.  ,  0.  ,  2.88,  0.  ,  1.  ,  0.  ,  2.  ],\n",
       "       [ 0.  ,  0.  ,  1.  ,  2.  ,  1.  ,  1.  ,  1.  ,  2.  ],\n",
       "       [ 0.  ,  0.  ,  1.  ,  1.5 ,  1.  ,  0.  ,  1.  ,  2.  ],\n",
       "       [ 0.  ,  0.  ,  1.  ,  2.18,  1.  ,  0.  ,  1.  ,  3.  ],\n",
       "       [ 0.  ,  0.  ,  1.  ,  2.  ,  0.  ,  1.  ,  1.  ,  2.  ],\n",
       "       [ 0.  ,  1.  ,  0.  ,  4.  ,  0.  ,  0.  ,  0.  ,  3.  ],\n",
       "       [ 1.  ,  0.  ,  0.  ,  3.  ,  1.  ,  1.  ,  0.  ,  4.  ],\n",
       "       [ 0.  ,  0.  ,  0.  ,  3.  ,  1.  ,  1.  ,  0.  ,  2.  ],\n",
       "       [ 0.  ,  1.  ,  0.  ,  2.54,  1.  ,  0.  ,  0.  ,  2.  ],\n",
       "       [ 0.  ,  0.  ,  1.  ,  3.4 ,  1.  ,  0.  ,  1.  ,  2.  ],\n",
       "       [ 1.  ,  0.  ,  0.  , 10.  ,  1.  ,  1.  ,  0.  ,  3.  ],\n",
       "       [ 1.  ,  0.  ,  0.  ,  3.  ,  1.  ,  0.  ,  0.  ,  2.  ],\n",
       "       [ 0.  ,  1.  ,  0.  ,  1.56,  1.  ,  0.  ,  0.  ,  2.  ],\n",
       "       [ 0.  ,  1.  ,  0.  ,  3.71,  1.  ,  0.  ,  0.  ,  3.  ],\n",
       "       [ 0.  ,  1.  ,  0.  ,  4.  ,  1.  ,  1.  ,  0.  ,  3.  ],\n",
       "       [ 0.  ,  1.  ,  0.  ,  2.6 ,  0.  ,  0.  ,  0.  ,  2.  ],\n",
       "       [ 0.  ,  1.  ,  0.  ,  3.02,  0.  ,  0.  ,  0.  ,  2.  ],\n",
       "       [ 0.  ,  1.  ,  0.  ,  2.  ,  1.  ,  0.  ,  0.  ,  4.  ],\n",
       "       [ 0.  ,  0.  ,  1.  ,  1.83,  0.  ,  0.  ,  1.  ,  1.  ],\n",
       "       [ 0.  ,  0.  ,  1.  ,  2.03,  1.  ,  0.  ,  1.  ,  2.  ],\n",
       "       [ 0.  ,  0.  ,  0.  ,  2.5 ,  0.  ,  1.  ,  1.  ,  2.  ],\n",
       "       [ 1.  ,  0.  ,  0.  ,  3.  ,  0.  ,  0.  ,  0.  ,  2.  ],\n",
       "       [ 0.  ,  1.  ,  0.  ,  3.31,  1.  ,  0.  ,  0.  ,  2.  ],\n",
       "       [ 1.  ,  0.  ,  0.  ,  7.58,  1.  ,  0.  ,  0.  ,  4.  ],\n",
       "       [ 0.  ,  0.  ,  1.  ,  2.  ,  0.  ,  0.  ,  1.  ,  2.  ],\n",
       "       [ 0.  ,  1.  ,  0.  ,  3.  ,  1.  ,  0.  ,  0.  ,  2.  ],\n",
       "       [ 0.  ,  1.  ,  0.  ,  3.48,  1.  ,  0.  ,  0.  ,  3.  ],\n",
       "       [ 0.  ,  0.  ,  0.  ,  1.5 ,  1.  ,  1.  ,  0.  ,  2.  ],\n",
       "       [ 0.  ,  0.  ,  1.  ,  2.  ,  1.  ,  1.  ,  1.  ,  2.  ],\n",
       "       [ 0.  ,  1.  ,  0.  ,  3.06,  1.  ,  0.  ,  0.  ,  2.  ],\n",
       "       [ 1.  ,  0.  ,  0.  ,  3.  ,  1.  ,  0.  ,  0.  ,  4.  ],\n",
       "       [ 0.  ,  0.  ,  1.  ,  2.71,  1.  ,  0.  ,  1.  ,  2.  ],\n",
       "       [ 1.  ,  0.  ,  0.  ,  1.44,  1.  ,  1.  ,  0.  ,  2.  ],\n",
       "       [ 0.  ,  1.  ,  0.  ,  1.57,  1.  ,  0.  ,  0.  ,  2.  ],\n",
       "       [ 0.  ,  1.  ,  0.  ,  4.  ,  1.  ,  0.  ,  0.  ,  3.  ],\n",
       "       [ 0.  ,  1.  ,  0.  ,  5.  ,  0.  ,  0.  ,  0.  ,  4.  ],\n",
       "       [ 0.  ,  1.  ,  0.  ,  1.5 ,  1.  ,  1.  ,  0.  ,  2.  ],\n",
       "       [ 0.  ,  0.  ,  1.  ,  5.17,  0.  ,  0.  ,  1.  ,  4.  ],\n",
       "       [ 0.  ,  0.  ,  1.  ,  3.25,  0.  ,  0.  ,  1.  ,  2.  ],\n",
       "       [ 0.  ,  0.  ,  1.  ,  5.  ,  0.  ,  0.  ,  1.  ,  6.  ],\n",
       "       [ 0.  ,  1.  ,  0.  ,  2.24,  1.  ,  0.  ,  0.  ,  2.  ],\n",
       "       [ 0.  ,  1.  ,  0.  ,  6.5 ,  1.  ,  1.  ,  0.  ,  4.  ],\n",
       "       [ 1.  ,  0.  ,  0.  ,  4.08,  0.  ,  0.  ,  0.  ,  2.  ],\n",
       "       [ 1.  ,  0.  ,  0.  ,  3.27,  1.  ,  0.  ,  0.  ,  2.  ],\n",
       "       [ 1.  ,  0.  ,  0.  ,  3.76,  1.  ,  0.  ,  0.  ,  2.  ],\n",
       "       [ 0.  ,  1.  ,  0.  ,  2.5 ,  1.  ,  0.  ,  0.  ,  2.  ],\n",
       "       [ 0.  ,  1.  ,  0.  ,  4.5 ,  1.  ,  0.  ,  0.  ,  4.  ],\n",
       "       [ 1.  ,  0.  ,  0.  ,  9.  ,  1.  ,  0.  ,  0.  ,  4.  ],\n",
       "       [ 0.  ,  1.  ,  0.  ,  3.68,  1.  ,  1.  ,  0.  ,  4.  ],\n",
       "       [ 0.  ,  1.  ,  0.  ,  3.61,  0.  ,  0.  ,  0.  ,  4.  ],\n",
       "       [ 0.  ,  0.  ,  1.  ,  2.  ,  0.  ,  0.  ,  1.  ,  2.  ],\n",
       "       [ 0.  ,  1.  ,  0.  ,  5.6 ,  1.  ,  0.  ,  0.  ,  4.  ],\n",
       "       [ 0.  ,  0.  ,  0.  ,  4.  ,  1.  ,  1.  ,  0.  ,  2.  ],\n",
       "       [ 1.  ,  0.  ,  0.  ,  1.25,  1.  ,  0.  ,  0.  ,  2.  ],\n",
       "       [ 1.  ,  0.  ,  0.  ,  4.3 ,  1.  ,  0.  ,  0.  ,  2.  ],\n",
       "       [ 0.  ,  0.  ,  1.  ,  1.25,  0.  ,  0.  ,  1.  ,  2.  ],\n",
       "       [ 0.  ,  1.  ,  0.  ,  4.  ,  1.  ,  1.  ,  0.  ,  2.  ],\n",
       "       [ 0.  ,  0.  ,  1.  ,  1.5 ,  0.  ,  0.  ,  1.  ,  2.  ],\n",
       "       [ 0.  ,  1.  ,  0.  ,  2.  ,  1.  ,  1.  ,  0.  ,  5.  ],\n",
       "       [ 1.  ,  0.  ,  0.  ,  3.  ,  1.  ,  1.  ,  0.  ,  2.  ],\n",
       "       [ 1.  ,  0.  ,  0.  ,  3.  ,  0.  ,  0.  ,  0.  ,  3.  ],\n",
       "       [ 0.  ,  0.  ,  1.  ,  1.8 ,  0.  ,  0.  ,  1.  ,  2.  ],\n",
       "       [ 0.  ,  0.  ,  1.  ,  2.02,  1.  ,  1.  ,  1.  ,  2.  ],\n",
       "       [ 1.  ,  0.  ,  0.  ,  2.  ,  0.  ,  1.  ,  0.  ,  2.  ],\n",
       "       [ 0.  ,  0.  ,  1.  ,  2.  ,  0.  ,  0.  ,  1.  ,  2.  ],\n",
       "       [ 1.  ,  0.  ,  0.  ,  2.2 ,  0.  ,  0.  ,  0.  ,  2.  ],\n",
       "       [ 1.  ,  0.  ,  0.  ,  1.  ,  1.  ,  1.  ,  0.  ,  2.  ],\n",
       "       [ 0.  ,  0.  ,  0.  ,  3.  ,  0.  ,  0.  ,  1.  ,  3.  ],\n",
       "       [ 0.  ,  0.  ,  0.  ,  3.25,  0.  ,  0.  ,  0.  ,  2.  ],\n",
       "       [ 0.  ,  1.  ,  0.  ,  2.  ,  1.  ,  0.  ,  0.  ,  2.  ],\n",
       "       [ 0.  ,  1.  ,  0.  ,  2.5 ,  1.  ,  0.  ,  0.  ,  2.  ],\n",
       "       [ 1.  ,  0.  ,  0.  ,  2.  ,  1.  ,  1.  ,  0.  ,  3.  ],\n",
       "       [ 0.  ,  0.  ,  0.  ,  4.3 ,  0.  ,  1.  ,  0.  ,  2.  ],\n",
       "       [ 0.  ,  1.  ,  0.  ,  3.5 ,  0.  ,  0.  ,  0.  ,  3.  ],\n",
       "       [ 1.  ,  0.  ,  0.  ,  2.  ,  1.  ,  0.  ,  0.  ,  2.  ],\n",
       "       [ 1.  ,  0.  ,  0.  ,  2.  ,  1.  ,  0.  ,  0.  ,  3.  ],\n",
       "       [ 1.  ,  0.  ,  0.  ,  1.5 ,  0.  ,  0.  ,  0.  ,  2.  ],\n",
       "       [ 1.  ,  0.  ,  0.  ,  2.5 ,  1.  ,  0.  ,  0.  ,  4.  ],\n",
       "       [ 1.  ,  0.  ,  0.  ,  3.15,  1.  ,  0.  ,  0.  ,  3.  ],\n",
       "       [ 0.  ,  0.  ,  1.  ,  3.5 ,  0.  ,  0.  ,  1.  ,  2.  ],\n",
       "       [ 0.  ,  0.  ,  1.  ,  3.  ,  1.  ,  0.  ,  1.  ,  2.  ],\n",
       "       [ 0.  ,  1.  ,  0.  ,  2.61,  0.  ,  0.  ,  0.  ,  2.  ],\n",
       "       [ 1.  ,  0.  ,  0.  ,  1.45,  1.  ,  0.  ,  0.  ,  2.  ],\n",
       "       [ 0.  ,  0.  ,  1.  ,  2.  ,  1.  ,  0.  ,  1.  ,  2.  ],\n",
       "       [ 0.  ,  0.  ,  0.  ,  1.  ,  0.  ,  1.  ,  0.  ,  2.  ],\n",
       "       [ 0.  ,  0.  ,  1.  ,  6.7 ,  1.  ,  0.  ,  1.  ,  6.  ],\n",
       "       [ 0.  ,  0.  ,  1.  ,  1.48,  1.  ,  0.  ,  1.  ,  2.  ],\n",
       "       [ 0.  ,  1.  ,  0.  ,  2.  ,  1.  ,  0.  ,  0.  ,  4.  ],\n",
       "       [ 0.  ,  1.  ,  0.  ,  3.  ,  1.  ,  0.  ,  0.  ,  4.  ],\n",
       "       [ 0.  ,  0.  ,  1.  ,  5.  ,  0.  ,  1.  ,  1.  ,  4.  ],\n",
       "       [ 0.  ,  0.  ,  1.  ,  4.  ,  1.  ,  0.  ,  1.  ,  4.  ],\n",
       "       [ 0.  ,  0.  ,  0.  ,  1.92,  1.  ,  1.  ,  1.  ,  1.  ],\n",
       "       [ 0.  ,  1.  ,  0.  ,  3.55,  1.  ,  1.  ,  0.  ,  2.  ],\n",
       "       [ 0.  ,  1.  ,  0.  ,  2.  ,  1.  ,  1.  ,  0.  ,  2.  ],\n",
       "       [ 1.  ,  0.  ,  0.  ,  3.41,  1.  ,  1.  ,  0.  ,  3.  ],\n",
       "       [ 0.  ,  0.  ,  0.  ,  1.58,  1.  ,  1.  ,  1.  ,  2.  ],\n",
       "       [ 0.  ,  0.  ,  1.  ,  4.  ,  1.  ,  1.  ,  1.  ,  3.  ],\n",
       "       [ 1.  ,  0.  ,  0.  ,  2.45,  0.  ,  0.  ,  0.  ,  4.  ],\n",
       "       [ 1.  ,  0.  ,  0.  ,  1.98,  1.  ,  1.  ,  0.  ,  2.  ],\n",
       "       [ 0.  ,  0.  ,  1.  ,  2.5 ,  1.  ,  0.  ,  1.  ,  2.  ],\n",
       "       [ 1.  ,  0.  ,  0.  ,  4.29,  1.  ,  1.  ,  0.  ,  2.  ],\n",
       "       [ 0.  ,  0.  ,  1.  ,  5.85,  1.  ,  0.  ,  1.  ,  2.  ],\n",
       "       [ 0.  ,  1.  ,  0.  ,  4.34,  1.  ,  0.  ,  0.  ,  4.  ],\n",
       "       [ 0.  ,  0.  ,  1.  ,  2.75,  0.  ,  0.  ,  1.  ,  2.  ],\n",
       "       [ 0.  ,  0.  ,  0.  ,  2.5 ,  0.  ,  1.  ,  0.  ,  2.  ],\n",
       "       [ 0.  ,  1.  ,  0.  ,  1.67,  0.  ,  0.  ,  0.  ,  3.  ],\n",
       "       [ 0.  ,  1.  ,  0.  ,  3.5 ,  0.  ,  0.  ,  0.  ,  2.  ],\n",
       "       [ 0.  ,  1.  ,  0.  ,  3.  ,  0.  ,  1.  ,  0.  ,  2.  ],\n",
       "       [ 1.  ,  0.  ,  0.  ,  2.24,  1.  ,  0.  ,  0.  ,  3.  ],\n",
       "       [ 0.  ,  1.  ,  0.  ,  1.01,  0.  ,  0.  ,  0.  ,  2.  ],\n",
       "       [ 1.  ,  0.  ,  0.  ,  5.  ,  0.  ,  1.  ,  0.  ,  2.  ],\n",
       "       [ 0.  ,  1.  ,  0.  ,  1.96,  1.  ,  0.  ,  0.  ,  2.  ],\n",
       "       [ 1.  ,  0.  ,  0.  ,  4.67,  0.  ,  0.  ,  0.  ,  3.  ],\n",
       "       [ 0.  ,  1.  ,  0.  ,  3.75,  0.  ,  0.  ,  0.  ,  4.  ],\n",
       "       [ 0.  ,  0.  ,  0.  ,  3.48,  0.  ,  1.  ,  1.  ,  2.  ],\n",
       "       [ 1.  ,  0.  ,  0.  ,  1.5 ,  1.  ,  1.  ,  0.  ,  2.  ],\n",
       "       [ 0.  ,  1.  ,  0.  ,  5.  ,  1.  ,  0.  ,  0.  ,  6.  ],\n",
       "       [ 0.  ,  0.  ,  1.  ,  2.  ,  1.  ,  0.  ,  1.  ,  2.  ],\n",
       "       [ 0.  ,  1.  ,  0.  ,  2.55,  1.  ,  0.  ,  0.  ,  2.  ],\n",
       "       [ 1.  ,  0.  ,  0.  ,  2.64,  1.  ,  0.  ,  0.  ,  3.  ],\n",
       "       [ 0.  ,  1.  ,  0.  ,  3.92,  1.  ,  0.  ,  0.  ,  2.  ],\n",
       "       [ 1.  ,  0.  ,  0.  ,  2.72,  1.  ,  0.  ,  0.  ,  2.  ],\n",
       "       [ 0.  ,  0.  ,  1.  ,  4.2 ,  0.  ,  0.  ,  1.  ,  6.  ],\n",
       "       [ 0.  ,  1.  ,  0.  ,  3.23,  1.  ,  0.  ,  0.  ,  2.  ]])"
      ]
     },
     "execution_count": 16,
     "metadata": {},
     "output_type": "execute_result"
    }
   ],
   "source": [
    "import sys \n",
    "import numpy as np \n",
    "np.set_printoptions(threshold=sys.maxsize)\n",
    "ct.fit_transform(X_train)"
   ]
  },
  {
   "cell_type": "code",
   "execution_count": null,
   "metadata": {},
   "outputs": [],
   "source": []
  },
  {
   "cell_type": "code",
   "execution_count": null,
   "metadata": {},
   "outputs": [],
   "source": []
  },
  {
   "cell_type": "code",
   "execution_count": null,
   "metadata": {},
   "outputs": [],
   "source": []
  },
  {
   "cell_type": "code",
   "execution_count": null,
   "metadata": {},
   "outputs": [],
   "source": []
  },
  {
   "cell_type": "code",
   "execution_count": null,
   "metadata": {},
   "outputs": [],
   "source": []
  },
  {
   "cell_type": "code",
   "execution_count": null,
   "metadata": {},
   "outputs": [],
   "source": []
  },
  {
   "cell_type": "code",
   "execution_count": null,
   "metadata": {},
   "outputs": [],
   "source": []
  },
  {
   "cell_type": "code",
   "execution_count": null,
   "metadata": {},
   "outputs": [],
   "source": []
  },
  {
   "cell_type": "code",
   "execution_count": null,
   "metadata": {},
   "outputs": [],
   "source": []
  },
  {
   "cell_type": "code",
   "execution_count": null,
   "metadata": {},
   "outputs": [],
   "source": []
  },
  {
   "cell_type": "code",
   "execution_count": null,
   "metadata": {},
   "outputs": [],
   "source": []
  },
  {
   "cell_type": "code",
   "execution_count": null,
   "metadata": {},
   "outputs": [],
   "source": []
  }
 ],
 "metadata": {
  "kernelspec": {
   "display_name": "Python 3",
   "language": "python",
   "name": "python3"
  },
  "language_info": {
   "codemirror_mode": {
    "name": "ipython",
    "version": 3
   },
   "file_extension": ".py",
   "mimetype": "text/x-python",
   "name": "python",
   "nbconvert_exporter": "python",
   "pygments_lexer": "ipython3",
   "version": "3.12.0"
  }
 },
 "nbformat": 4,
 "nbformat_minor": 2
}
